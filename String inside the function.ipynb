{
 "cells": [
  {
   "cell_type": "code",
   "execution_count": 1,
   "id": "0147c9a2",
   "metadata": {},
   "outputs": [
    {
     "name": "stdout",
     "output_type": "stream",
     "text": [
      "Sample string : 1234abcd\n",
      "Expected output : dcba4321 \n"
     ]
    }
   ],
   "source": [
    "s = \"1234abcd\"\n",
    "def reverse(s):\n",
    "    a = ' '\n",
    "    for i in s:\n",
    "        a = i + a\n",
    "    return a\n",
    "print(\"Sample string :\",s)\n",
    "print(\"Expected output :\",reverse(s))"
   ]
  },
  {
   "cell_type": "code",
   "execution_count": null,
   "id": "d9db4b2b",
   "metadata": {},
   "outputs": [],
   "source": []
  }
 ],
 "metadata": {
  "kernelspec": {
   "display_name": "Python 3 (ipykernel)",
   "language": "python",
   "name": "python3"
  },
  "language_info": {
   "codemirror_mode": {
    "name": "ipython",
    "version": 3
   },
   "file_extension": ".py",
   "mimetype": "text/x-python",
   "name": "python",
   "nbconvert_exporter": "python",
   "pygments_lexer": "ipython3",
   "version": "3.10.1"
  }
 },
 "nbformat": 4,
 "nbformat_minor": 5
}
