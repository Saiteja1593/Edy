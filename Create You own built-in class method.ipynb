{
 "cells": [
  {
   "cell_type": "code",
   "execution_count": 1,
   "id": "f604c475",
   "metadata": {},
   "outputs": [
    {
     "name": "stdout",
     "output_type": "stream",
     "text": [
      "Enter value of x:6\n",
      "enter value of n:3\n",
      "n-th power of x is: 216\n"
     ]
    }
   ],
   "source": [
    "class Power():\n",
    "    def __init__(self,x,n):\n",
    "        self.X=x\n",
    "        self.N=n\n",
    "    def print_pow(self):\n",
    "        y=self.X**self.N\n",
    "        print('n-th power of x is:',y)\n",
    "P=Power(int(input('Enter value of x:')),int(input('enter value of n:')))\n",
    "P.print_pow()"
   ]
  },
  {
   "cell_type": "code",
   "execution_count": null,
   "id": "b9df7b8f",
   "metadata": {},
   "outputs": [],
   "source": []
  }
 ],
 "metadata": {
  "kernelspec": {
   "display_name": "Python 3 (ipykernel)",
   "language": "python",
   "name": "python3"
  },
  "language_info": {
   "codemirror_mode": {
    "name": "ipython",
    "version": 3
   },
   "file_extension": ".py",
   "mimetype": "text/x-python",
   "name": "python",
   "nbconvert_exporter": "python",
   "pygments_lexer": "ipython3",
   "version": "3.10.1"
  }
 },
 "nbformat": 4,
 "nbformat_minor": 5
}
