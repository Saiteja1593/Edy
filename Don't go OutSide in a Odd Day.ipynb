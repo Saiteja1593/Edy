{
 "cells": [
  {
   "cell_type": "code",
   "execution_count": 1,
   "id": "ea84ba2f",
   "metadata": {},
   "outputs": [
    {
     "name": "stdout",
     "output_type": "stream",
     "text": [
      "Number of Even numbers : 4\n",
      "Number of Odd numbers : 5\n"
     ]
    }
   ],
   "source": [
    "List = [1, 2, 3, 4, 5, 6, 7, 8, 9]\n",
    "Odd_Count = 0\n",
    "Even_Count= 0\n",
    "for x in List:\n",
    "        if x%2==0:\n",
    "             Even_Count+=1\n",
    "        else:\n",
    "            Odd_Count+=1\n",
    "print(\"Number of Even numbers :\",Even_Count)\n",
    "print(\"Number of Odd numbers :\",Odd_Count)"
   ]
  },
  {
   "cell_type": "code",
   "execution_count": null,
   "id": "82c78fe4",
   "metadata": {},
   "outputs": [],
   "source": []
  }
 ],
 "metadata": {
  "kernelspec": {
   "display_name": "Python 3 (ipykernel)",
   "language": "python",
   "name": "python3"
  },
  "language_info": {
   "codemirror_mode": {
    "name": "ipython",
    "version": 3
   },
   "file_extension": ".py",
   "mimetype": "text/x-python",
   "name": "python",
   "nbconvert_exporter": "python",
   "pygments_lexer": "ipython3",
   "version": "3.10.1"
  }
 },
 "nbformat": 4,
 "nbformat_minor": 5
}
