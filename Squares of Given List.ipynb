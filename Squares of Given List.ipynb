{
 "cells": [
  {
   "cell_type": "code",
   "execution_count": 1,
   "id": "d8edb7b4",
   "metadata": {},
   "outputs": [
    {
     "name": "stdout",
     "output_type": "stream",
     "text": [
      "Enter no. of elements of list: 4\n",
      "Enter elements of list\n",
      "4\n",
      "5\n",
      "2\n",
      "9\n",
      "sample list:  [4, 5, 2, 9]\n",
      "output:  [16, 25, 4, 81]\n"
     ]
    }
   ],
   "source": [
    "def square(x):\n",
    "    return x*x\n",
    "\n",
    "n=int(input('Enter no. of elements of list: '))\n",
    "l1=[]\n",
    "print('Enter elements of list')\n",
    "for i in range(n):\n",
    "    element=int(input())\n",
    "    l1.append(element)\n",
    "\n",
    "l2=list(map(square,l1))\n",
    "print('sample list: ',l1)\n",
    "print('output: ',l2)"
   ]
  },
  {
   "cell_type": "code",
   "execution_count": null,
   "id": "cd731698",
   "metadata": {},
   "outputs": [],
   "source": []
  }
 ],
 "metadata": {
  "kernelspec": {
   "display_name": "Python 3",
   "language": "python",
   "name": "python3"
  },
  "language_info": {
   "codemirror_mode": {
    "name": "ipython",
    "version": 3
   },
   "file_extension": ".py",
   "mimetype": "text/x-python",
   "name": "python",
   "nbconvert_exporter": "python",
   "pygments_lexer": "ipython3",
   "version": "3.8.8"
  }
 },
 "nbformat": 4,
 "nbformat_minor": 5
}
