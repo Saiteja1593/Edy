{
 "cells": [
  {
   "cell_type": "code",
   "execution_count": 1,
   "id": "c30f370f",
   "metadata": {},
   "outputs": [
    {
     "name": "stdout",
     "output_type": "stream",
     "text": [
      "Enter the Number of terms->12\n",
      "0 1 1 2 3 5 8 13 21 34 "
     ]
    }
   ],
   "source": [
    "#Write a Python program to get the Fibonacci series between 0 to 50\n",
    "\n",
    "Number_of_terms=int(input(\"Enter the Number of terms->\"))\n",
    "First=0                                         \n",
    "Second=1                                         \n",
    "if Number_of_terms<=0:\n",
    "    print(\"Enter greater than 0\")\n",
    "else:\n",
    "    print(First,Second,end=' ')\n",
    "    for i in range(2,Number_of_terms):\n",
    "        Next=First+Second\n",
    "        First=Second\n",
    "        Second=Next\n",
    "        if Next>50:\n",
    "            break\n",
    "        print(Next,end=\" \")"
   ]
  },
  {
   "cell_type": "code",
   "execution_count": null,
   "id": "cf9a8ea3",
   "metadata": {},
   "outputs": [],
   "source": []
  }
 ],
 "metadata": {
  "kernelspec": {
   "display_name": "Python 3 (ipykernel)",
   "language": "python",
   "name": "python3"
  },
  "language_info": {
   "codemirror_mode": {
    "name": "ipython",
    "version": 3
   },
   "file_extension": ".py",
   "mimetype": "text/x-python",
   "name": "python",
   "nbconvert_exporter": "python",
   "pygments_lexer": "ipython3",
   "version": "3.10.1"
  }
 },
 "nbformat": 4,
 "nbformat_minor": 5
}
