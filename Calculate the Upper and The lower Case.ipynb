{
 "cells": [
  {
   "cell_type": "code",
   "execution_count": 5,
   "id": "ca02aff8",
   "metadata": {},
   "outputs": [
    {
     "name": "stdout",
     "output_type": "stream",
     "text": [
      "Sample string : The quick Brow fox\n",
      "No.of upper case characters :  2\n",
      "No.of lower case Characters :  13\n"
     ]
    }
   ],
   "source": [
    "def uplow(s):\n",
    "    d={\"upper\":0,\"lower\":0}\n",
    "    for i in s:\n",
    "        if i.isupper():\n",
    "            d[\"upper\"]+=1\n",
    "        elif i.islower():\n",
    "            d[\"lower\"]+=1\n",
    "        else:\n",
    "             pass\n",
    "    print (\"Sample string :\", s)\n",
    "    print (\"No.of upper case characters : \", d[\"upper\"])\n",
    "    print (\"No.of lower case Characters : \", d[\"lower\"])\n",
    "uplow(\"The quick Brow fox\")"
   ]
  },
  {
   "cell_type": "code",
   "execution_count": null,
   "id": "76646727",
   "metadata": {},
   "outputs": [],
   "source": []
  }
 ],
 "metadata": {
  "kernelspec": {
   "display_name": "Python 3 (ipykernel)",
   "language": "python",
   "name": "python3"
  },
  "language_info": {
   "codemirror_mode": {
    "name": "ipython",
    "version": 3
   },
   "file_extension": ".py",
   "mimetype": "text/x-python",
   "name": "python",
   "nbconvert_exporter": "python",
   "pygments_lexer": "ipython3",
   "version": "3.10.1"
  }
 },
 "nbformat": 4,
 "nbformat_minor": 5
}
